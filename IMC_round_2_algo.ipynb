{
 "cells": [
  {
   "cell_type": "code",
   "execution_count": 3,
   "id": "ef3b597a-6829-4b8c-b76e-8c0788d84c0e",
   "metadata": {},
   "outputs": [],
   "source": [
    "import pandas as pd\n",
    "import numpy as np\n",
    "import matplotlib.pyplot as plt"
   ]
  },
  {
   "cell_type": "code",
   "execution_count": 4,
   "id": "b1556123-5238-497e-b916-61ee9f80df30",
   "metadata": {},
   "outputs": [],
   "source": [
    "# read all files\n",
    "price_day_1_df = pd.read_csv(\"round_2_data_folder/prices_round_2_day_1.csv\", sep=\";\")\n",
    "price_day_0_df = pd.read_csv(\"round_2_data_folder/prices_round_2_day_0.csv\", sep=\";\")\n",
    "price_day_menus_df = pd.read_csv(\"round_2_data_folder/prices_round_2_day_-1.csv\", sep=\";\")\n",
    "\n",
    "trade_day_1_df = pd.read_csv(\"round_2_data_folder/trades_round_2_day_1.csv\", sep=\";\")\n",
    "trade_day_0_df = pd.read_csv(\"round_2_data_folder/trades_round_2_day_0.csv\", sep=\";\")\n",
    "trade_day_menus_df = pd.read_csv(\"round_2_data_folder/trades_round_2_day_-1.csv\", sep=\";\")"
   ]
  },
  {
   "cell_type": "code",
   "execution_count": 6,
   "id": "53610ad8-992f-4c24-932a-f79f08abe6eb",
   "metadata": {},
   "outputs": [
    {
     "data": {
      "text/plain": [
       "{'CROISSANTS',\n",
       " 'DJEMBES',\n",
       " 'JAMS',\n",
       " 'KELP',\n",
       " 'PICNIC_BASKET1',\n",
       " 'PICNIC_BASKET2',\n",
       " 'RAINFOREST_RESIN',\n",
       " 'SQUID_INK'}"
      ]
     },
     "execution_count": 6,
     "metadata": {},
     "output_type": "execute_result"
    }
   ],
   "source": [
    "# retrieve all the product\n",
    "set(price_day_1_df['product'])"
   ]
  }
 ],
 "metadata": {
  "kernelspec": {
   "display_name": "Python 3 (ipykernel)",
   "language": "python",
   "name": "python3"
  },
  "language_info": {
   "codemirror_mode": {
    "name": "ipython",
    "version": 3
   },
   "file_extension": ".py",
   "mimetype": "text/x-python",
   "name": "python",
   "nbconvert_exporter": "python",
   "pygments_lexer": "ipython3",
   "version": "3.12.2"
  }
 },
 "nbformat": 4,
 "nbformat_minor": 5
}
